{
 "cells": [
  {
   "cell_type": "code",
   "execution_count": 1,
   "metadata": {},
   "outputs": [],
   "source": [
    "import numpy as np\n",
    "import networkx as nx\n",
    "from networkx.algorithms import bipartite\n",
    "import multinetx as mx\n",
    "import csv, os\n",
    "import matplotlib.pyplot as plt"
   ]
  },
  {
   "cell_type": "code",
   "execution_count": 2,
   "metadata": {},
   "outputs": [],
   "source": [
    "def create_layer_from_csv(file_path, node_start_id = 0):\n",
    "    \"\"\"\n",
    "    Creates a network layer from a csv file\n",
    "    \n",
    "    The first column in the csv file should hold names of nodes to be interconnected between layers\n",
    "    \n",
    "    Attributes\n",
    "    ----------\n",
    "    file_path : str\n",
    "        a name of a csv file to process\n",
    "    node_start_id : int\n",
    "        first id to assign to a node created\n",
    "        \n",
    "    \"\"\"\n",
    "    \n",
    "    G = nx.Graph()\n",
    "    \n",
    "    # first pass only creates the nodes with the appropriate bipartite attribute\n",
    "    # bipartite = 0 is used for nodes to be interconnected between layers\n",
    "    with open(file_path, encoding='utf8') as f:\n",
    "        csv_reader = csv.reader(f)\n",
    "        \n",
    "        externally_connected = [] #what about duplicates are they to be expected?\n",
    "        internally_connected = set()\n",
    "        \n",
    "        for row in csv_reader:\n",
    "            externally_connected.append(row[0])\n",
    "            internally_connected.add(row[1]) \n",
    "            \n",
    "    G.add_nodes_from(externally_connected, bipartite=0)\n",
    "    G.add_nodes_from(internally_connected, bipartite=1)\n",
    "    \n",
    "    # instead of forcing the bipatrite attribute like this we could possibly have done\n",
    "    # nx.is_connected(G)\n",
    "    # bottom_nodes, top_nodes = bipartite.sets(G)\n",
    "    # possibly we could not be sure which set will be what A vs. B or B vs. A!\n",
    "    \n",
    "    # second pass creates a list of edges.\n",
    "    # not sure which is better; reset the csv_reader or just create a new one, taking the latter option\n",
    "    with open(file_path, encoding='utf8') as f:\n",
    "        csv_reader = csv.reader(f)\n",
    "        # get the data as list of tuple\n",
    "        edges = [(row[0], row[1]) for row in csv_reader]\n",
    "        \n",
    "    G.add_edges_from(edges)\n",
    "    \n",
    "    # haven't still succeeded in triggering this exception, the way I'm assigning the bipartite attribude acc. to columns\n",
    "    # in the csv, always creates a new node if trying that. \n",
    "    if not bipartite.is_bipartite(G):\n",
    "        raise Exception('Network is not bipartite')\n",
    "        \n",
    "    # abandon labels for ids, here we are using the default value for the ordering parameter\n",
    "    return nx.convert_node_labels_to_integers(G, first_label=node_start_id, ordering='default', label_attribute='name') #, externally_connected\n"
   ]
  },
  {
   "cell_type": "code",
   "execution_count": 3,
   "metadata": {},
   "outputs": [],
   "source": [
    "def get_current_count_of_nodes(layers):\n",
    "    \"\"\"\n",
    "    Returns the total count of nodes in list/collection/iterable! of networkX layers \n",
    "    \n",
    "    \"\"\"\n",
    "    \n",
    "    node_count = 0\n",
    "    \n",
    "    for layer in layers:\n",
    "        node_count += layer.number_of_nodes()\n",
    "        \n",
    "    return node_count"
   ]
  },
  {
   "cell_type": "code",
   "execution_count": 4,
   "metadata": {},
   "outputs": [],
   "source": [
    "def get_interconnect_nodes(layers):\n",
    "    \"\"\"\n",
    "    Extracts the sets on nodes to be interconnected\n",
    "    \n",
    "    \"\"\"\n",
    "    \n",
    "    sets = []\n",
    "    \n",
    "    for layer in layers:\n",
    "        sets.append({n for n, d in layer.nodes(data=True) if d['bipartite']==0})\n",
    "        \n",
    "    return sets"
   ]
  },
  {
   "cell_type": "code",
   "execution_count": 5,
   "metadata": {},
   "outputs": [],
   "source": [
    "def wire_interconnections(layers, interconnect_nodes):\n",
    "    \"\"\"\n",
    "    Retruns a descriptive datastrcuture (a dict of lists) describing how the nodes are to be interconnected\n",
    "    \n",
    "    Attributes\n",
    "    ----------\n",
    "    layers : list\n",
    "        list of networkX graphs\n",
    "    interconnect_nodes : list\n",
    "        contents of the list are sets of nodes to be interconnected in each layer\n",
    "    \n",
    "    \"\"\"\n",
    "    \n",
    "    interconnect_nodes_by_name = {}\n",
    "    \n",
    "    for n,interconnect_set in enumerate(interconnect_nodes):\n",
    "        for node_id in interconnect_set:\n",
    "            \n",
    "            name = layers[n].nodes[node_id]['name']\n",
    "            \n",
    "            if name not in interconnect_nodes_by_name:\n",
    "                interconnect_nodes_by_name[name] = [node_id]\n",
    "            else:\n",
    "                interconnect_nodes_by_name[name].append(node_id)\n",
    "            \n",
    "    return interconnect_nodes_by_name"
   ]
  },
  {
   "cell_type": "code",
   "execution_count": 6,
   "metadata": {},
   "outputs": [],
   "source": [
    "# where are the csv files located, relative to the current folder where his script is run\n",
    "directory = '.'\n",
    "\n",
    "layers = []\n",
    "\n",
    "for f in os.listdir(directory):\n",
    "\n",
    "    # if other files than csv are present, skip those\n",
    "    if f[-4:] != '.csv':\n",
    "        continue\n",
    "        \n",
    "    file_path = os.path.join(directory, f)\n",
    "\n",
    "    layers.append(create_layer_from_csv(file_path, get_current_count_of_nodes(layers)))\n",
    "    \n",
    "interconnect_nodes = get_interconnect_nodes(layers)\n",
    "interconnections = wire_interconnections(layers, interconnect_nodes)\n",
    "\n",
    "N = get_current_count_of_nodes(layers) # not efficient bot ok for now\n",
    "\n",
    "adj_block = mx.lil_matrix(np.zeros((N, N)))\n",
    "\n",
    "for indices in interconnections.values():\n",
    "\n",
    "    # it might happen that a node to interconnect appears only on one layer\n",
    "    if len(indices) == 1:\n",
    "        continue\n",
    "        \n",
    "    pos = 0\n",
    "    \n",
    "    # if we have more than 2 layers the we want to process them all\n",
    "    while (pos+2) <= len(indices):\n",
    "        \n",
    "        adj_block[indices[pos],indices[pos+1]] = 1\n",
    "        \n",
    "        pos += 1\n",
    "    \n",
    "adj_block += adj_block.T"
   ]
  },
  {
   "cell_type": "code",
   "execution_count": 7,
   "metadata": {},
   "outputs": [
    {
     "name": "stdout",
     "output_type": "stream",
     "text": [
      "  (0, 23)\t1.0\n",
      "  (1, 22)\t1.0\n",
      "  (2, 19)\t1.0\n",
      "  (3, 28)\t1.0\n",
      "  (4, 16)\t1.0\n",
      "  (5, 29)\t1.0\n",
      "  (6, 18)\t1.0\n",
      "  (7, 27)\t1.0\n",
      "  (8, 24)\t1.0\n",
      "  (9, 21)\t1.0\n",
      "  (10, 26)\t1.0\n",
      "  (11, 25)\t1.0\n",
      "  (12, 20)\t1.0\n",
      "  (13, 17)\t1.0\n",
      "  (16, 4)\t1.0\n",
      "  (17, 13)\t1.0\n",
      "  (18, 6)\t1.0\n",
      "  (19, 2)\t1.0\n",
      "  (20, 12)\t1.0\n",
      "  (21, 9)\t1.0\n",
      "  (22, 1)\t1.0\n",
      "  (23, 0)\t1.0\n",
      "  (24, 8)\t1.0\n",
      "  (25, 11)\t1.0\n",
      "  (26, 10)\t1.0\n",
      "  (27, 7)\t1.0\n",
      "  (28, 3)\t1.0\n",
      "  (29, 5)\t1.0\n"
     ]
    }
   ],
   "source": [
    "print(adj_block)"
   ]
  },
  {
   "cell_type": "code",
   "execution_count": 8,
   "metadata": {},
   "outputs": [],
   "source": [
    "# just for debugging purposes!\n",
    "#layers[0].nodes(data=True)"
   ]
  },
  {
   "cell_type": "code",
   "execution_count": 9,
   "metadata": {},
   "outputs": [],
   "source": [
    "# just for debugging purposes!\n",
    "#layers[1].nodes(data=True)"
   ]
  },
  {
   "cell_type": "code",
   "execution_count": 10,
   "metadata": {},
   "outputs": [],
   "source": [
    "mg = mx.MultilayerGraph(list_of_layers=layers, inter_adjacency_matrix=adj_block)\n",
    "# next two lines gives an error!\n",
    "#mg.add_layer(g_loc)\n",
    "#mg.add_layer(g_disc)\n",
    "\n",
    "# mg.layers_interconnect(inter_adjacency_matrix=adj_block)\n",
    "# this should also be possible thrugh a named parameter to the constructor:\n",
    "\n",
    "# mx.MultilayerGraph(list_of_layers=[g1,g2,g3], inter_adjacency_matrix=adj_block)"
   ]
  },
  {
   "cell_type": "code",
   "execution_count": 11,
   "metadata": {},
   "outputs": [],
   "source": [
    "# just to be aple to plot someting below...\n",
    "\n",
    "mg.set_edges_weights(intra_layer_edges_weight=2,\n",
    "                     inter_layer_edges_weight=3)\n",
    "\n",
    "# this below gives an error on the weights when plotting!\n",
    "#mg.set_edges_weights(inter_layer_edges_weight=3)\n",
    "\n",
    "#mg.set_intra_edges_weights(layer=0,weight=1)\n",
    "#mg.set_intra_edges_weights(layer=1,weight=2)"
   ]
  },
  {
   "cell_type": "code",
   "execution_count": 12,
   "metadata": {},
   "outputs": [
    {
     "name": "stderr",
     "output_type": "stream",
     "text": [
      "c:\\program files\\python36\\lib\\site-packages\\networkx\\drawing\\nx_pylab.py:579: MatplotlibDeprecationWarning: \n",
      "The iterable function was deprecated in Matplotlib 3.1 and will be removed in 3.3. Use np.iterable instead.\n",
      "  if not cb.iterable(width):\n",
      "c:\\program files\\python36\\lib\\site-packages\\networkx\\drawing\\nx_pylab.py:585: MatplotlibDeprecationWarning: \n",
      "The iterable function was deprecated in Matplotlib 3.1 and will be removed in 3.3. Use np.iterable instead.\n",
      "  and cb.iterable(edge_color) \\\n",
      "c:\\program files\\python36\\lib\\site-packages\\networkx\\drawing\\nx_pylab.py:595: MatplotlibDeprecationWarning: \n",
      "The iterable function was deprecated in Matplotlib 3.1 and will be removed in 3.3. Use np.iterable instead.\n",
      "  for c in edge_color]):\n"
     ]
    },
    {
     "data": {
      "image/png": "[encoded data removed]",
      "text/plain": [
       "<Figure size 1080x360 with 2 Axes>"
      ]
     },
     "metadata": {},
     "output_type": "display_data"
    }
   ],
   "source": [
    "# this block from here:\n",
    "# https://github.com/nkoub/multinetx#plot-the-adjacency-matrix-and-the-multiplex-networks-2\n",
    "\n",
    "fig = plt.figure(figsize=(15,5))\n",
    "ax1 = fig.add_subplot(121)\n",
    "ax1.imshow(mx.adjacency_matrix(mg,weight='weight').todense(),origin='upper',interpolation='nearest',cmap=plt.cm.jet_r)\n",
    "ax1.set_title('supra adjacency matrix')\n",
    "\n",
    "ax2 = fig.add_subplot(122)\n",
    "ax2.axis('off')\n",
    "ax2.set_title('regular interconnected network')\n",
    "pos = mx.get_position(mg,mx.fruchterman_reingold_layout(mg.get_layer(0)),layer_vertical_shift=1.4,layer_horizontal_shift=0.0,proj_angle=7)\n",
    "mx.draw_networkx(mg,pos=pos,ax=ax2,node_size=50,with_labels=False,edge_color=[mg[a][b]['weight'] for a,b in mg.edges()],edge_cmap=plt.cm.jet_r)\n",
    "plt.show()"
   ]
  },
  {
   "cell_type": "code",
   "execution_count": null,
   "metadata": {},
   "outputs": [],
   "source": []
  }
 ],
 "metadata": {
  "kernelspec": {
   "display_name": "Python 3",
   "language": "python",
   "name": "python3"
  },
  "language_info": {
   "codemirror_mode": {
    "name": "ipython",
    "version": 3
   },
   "file_extension": ".py",
   "mimetype": "text/x-python",
   "name": "python",
   "nbconvert_exporter": "python",
   "pygments_lexer": "ipython3",
   "version": "3.6.4"
  }
 },
 "nbformat": 4,
 "nbformat_minor": 2
}
